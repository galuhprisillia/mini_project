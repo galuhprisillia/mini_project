{
  "nbformat": 4,
  "nbformat_minor": 0,
  "metadata": {
    "colab": {
      "provenance": []
    },
    "kernelspec": {
      "name": "python3",
      "display_name": "Python 3"
    },
    "language_info": {
      "name": "python"
    }
  },
  "cells": [
    {
      "cell_type": "code",
      "execution_count": 1,
      "metadata": {
        "colab": {
          "base_uri": "https://localhost:8080/"
        },
        "id": "oeEqMvnWJzsS",
        "outputId": "8c8ee61e-4327-45f9-dcbf-11d4ebe8f0a2"
      },
      "outputs": [
        {
          "output_type": "stream",
          "name": "stdout",
          "text": [
            "['Bar', 'Foo', '98', 'Foo', 'Bar', '94', 'Foo', '92', '91', 'FooBar', '88', 'Foo', '86', 'Bar', 'Foo', '82', 'Foo', 'Bar', 'Foo', '77', '76', 'FooBar', '74', 'Foo', 'Bar', 'Foo', '68', 'Foo', 'Bar', '64', 'Foo', '62', 'FooBar', '58', 'Foo', '56', 'Bar', 'Foo', '52', 'Foo', 'Bar', '49', 'Foo', '46', 'FooBar', '44', 'Foo', 'Bar', 'Foo', '38', 'Foo', 'Bar', '34', 'Foo', '32', 'FooBar', '28', 'Foo', '26', 'Bar', 'Foo', '22', 'Foo', 'Bar', 'Foo', '16', 'FooBar', '14', 'Foo', 'Bar', 'Foo', '8', 'Foo', '4', '1']\n"
          ]
        }
      ],
      "source": [
        "def is_prime(num):\n",
        "    if num < 2:\n",
        "        return False\n",
        "    for i in range(2, int(num**0.5) + 1):\n",
        "        if num % i == 0:\n",
        "            return False\n",
        "    return True\n",
        "\n",
        "def generate_list():\n",
        "    result = []\n",
        "    for i in range(100, 0, -1):\n",
        "        if is_prime(i):\n",
        "            continue\n",
        "        if i % 3 == 0 and i % 5 == 0:\n",
        "            result.append(\"FooBar\")\n",
        "        elif i % 3 == 0:\n",
        "            result.append(\"Foo\")\n",
        "        elif i % 5 == 0:\n",
        "            result.append(\"Bar\")\n",
        "        else:\n",
        "            result.append(str(i))\n",
        "    return result\n",
        "\n",
        "result_list = generate_list()\n",
        "print(result_list)"
      ]
    },
    {
      "cell_type": "code",
      "source": [
        "import requests\n",
        "from datetime import datetime, timedelta\n",
        "\n",
        "API_KEY = 'c372a60acf44c62ed5ce4f4b28bacca5'\n",
        "CITY = 'Jakarta'\n",
        "URL = f'http://api.openweathermap.org/data/2.5/forecast?q={CITY}&appid={API_KEY}&units=metric'\n",
        "\n",
        "response = requests.get(URL)\n",
        "data = response.json()\n",
        "\n",
        "forecast = data['list']\n",
        "daily_temps = {}\n",
        "\n",
        "for entry in forecast:\n",
        "    date_time = datetime.fromtimestamp(entry['dt'])\n",
        "    if date_time.hour == 12:  # Filter for 12:00 PM\n",
        "        date = date_time.date()\n",
        "        temp = entry['main']['temp']\n",
        "        daily_temps[date] = temp\n",
        "\n",
        "print(\"Weather Forecast:\")\n",
        "for date, temp in daily_temps.items():\n",
        "    formatted_date = date.strftime('%a, %d %b %Y')\n",
        "    print(f\"{formatted_date}: {temp:.2f}°C\")\n"
      ],
      "metadata": {
        "colab": {
          "base_uri": "https://localhost:8080/"
        },
        "id": "u-g4q98uK-ye",
        "outputId": "ee81844e-b362-475f-e184-442c55b8484f"
      },
      "execution_count": 12,
      "outputs": [
        {
          "output_type": "stream",
          "name": "stdout",
          "text": [
            "Weather Forecast:\n",
            "Tue, 21 May 2024: 30.40°C\n",
            "Wed, 22 May 2024: 29.42°C\n",
            "Thu, 23 May 2024: 29.14°C\n",
            "Fri, 24 May 2024: 29.79°C\n",
            "Sat, 25 May 2024: 28.71°C\n"
          ]
        }
      ]
    }
  ]
}